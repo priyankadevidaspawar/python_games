{
  "nbformat": 4,
  "nbformat_minor": 0,
  "metadata": {
    "colab": {
      "provenance": [],
      "authorship_tag": "ABX9TyNuktCaOVSilcgRw+wlTfqS",
      "include_colab_link": true
    },
    "kernelspec": {
      "name": "python3",
      "display_name": "Python 3"
    },
    "language_info": {
      "name": "python"
    }
  },
  "cells": [
    {
      "cell_type": "markdown",
      "metadata": {
        "id": "view-in-github",
        "colab_type": "text"
      },
      "source": [
        "<a href=\"https://colab.research.google.com/github/priyankadevidaspawar/python_games/blob/main/Hangman.ipynb\" target=\"_parent\"><img src=\"https://colab.research.google.com/assets/colab-badge.svg\" alt=\"Open In Colab\"/></a>"
      ]
    },
    {
      "cell_type": "markdown",
      "source": [
        "##**Implemented Hangman game**\n",
        "\n",
        "Added a Python script for the classic Hangman game. The game randomly selects a word from a predefined list and allows the player to guess letters to uncover the word. The player has a limited number of attempts before the hangman is fully drawn. If the player guesses the word within the allowed attempts, they win; otherwise, they lose.\n"
      ],
      "metadata": {
        "id": "zRCENzuMQPOM"
      }
    },
    {
      "cell_type": "code",
      "source": [
        "import random\n",
        "\n",
        "def choose_word():\n",
        "    words = [\"apple\", \"banana\", \"orange\", \"grape\", \"pineapple\"]\n",
        "    return random.choice(words)\n",
        "\n",
        "def hangman():\n",
        "    word = choose_word()\n",
        "    guessed_letters = []\n",
        "    attempts = 6\n",
        "\n",
        "    while attempts > 0:\n",
        "        display_word = \"\"\n",
        "        for letter in word:\n",
        "            if letter in guessed_letters:\n",
        "                display_word += letter\n",
        "            else:\n",
        "                display_word += \"_\"\n",
        "        print(\"Word:\", display_word)\n",
        "\n",
        "        if display_word == word:\n",
        "            print(\"Congratulations! You guessed the word!\")\n",
        "            break\n",
        "\n",
        "        guess = input(\"Guess a letter: \").lower()\n",
        "\n",
        "        if guess in guessed_letters:\n",
        "            print(\"You already guessed that letter.\")\n",
        "        elif guess in word:\n",
        "            print(\"Correct guess!\")\n",
        "            guessed_letters.append(guess)\n",
        "        else:\n",
        "            print(\"Incorrect guess!\")\n",
        "            attempts -= 1\n",
        "            print(f\"Attempts left: {attempts}\")\n",
        "\n",
        "    if attempts == 0:\n",
        "        print(\"You ran out of attempts! The word was:\", word)\n",
        "\n",
        "if __name__ == \"__main__\":\n",
        "    hangman()\n"
      ],
      "metadata": {
        "colab": {
          "base_uri": "https://localhost:8080/"
        },
        "id": "3Fcha5OkQQFC",
        "outputId": "4e5551e2-24c0-452c-9611-2197ce70d420"
      },
      "execution_count": 1,
      "outputs": [
        {
          "output_type": "stream",
          "name": "stdout",
          "text": [
            "Word: _____\n",
            "Guess a letter: o\n",
            "Incorrect guess!\n",
            "Attempts left: 5\n",
            "Word: _____\n",
            "Guess a letter: a\n",
            "Correct guess!\n",
            "Word: a____\n",
            "Guess a letter: p\n",
            "Correct guess!\n",
            "Word: app__\n",
            "Guess a letter: p\n",
            "You already guessed that letter.\n",
            "Word: app__\n",
            "Guess a letter: l\n",
            "Correct guess!\n",
            "Word: appl_\n",
            "Guess a letter: e\n",
            "Correct guess!\n",
            "Word: apple\n",
            "Congratulations! You guessed the word!\n"
          ]
        }
      ]
    }
  ]
}